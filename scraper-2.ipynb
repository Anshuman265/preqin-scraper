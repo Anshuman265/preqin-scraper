{
 "cells": [
  {
   "cell_type": "code",
   "execution_count": 5,
   "metadata": {},
   "outputs": [],
   "source": [
    "from selenium import webdriver\n",
    "import time\n",
    "from selenium.webdriver.common.keys import Keys  \n",
    "from selenium.webdriver.common.by import By  \n",
    "driver = webdriver.Chrome()\n",
    "driver.maximize_window()"
   ]
  },
  {
   "cell_type": "code",
   "execution_count": 52,
   "metadata": {},
   "outputs": [],
   "source": [
    "email = \"\"\n",
    "password = \"\"\n",
    "url = \"https://pro.preqin.com/\""
   ]
  },
  {
   "cell_type": "code",
   "execution_count": 7,
   "metadata": {},
   "outputs": [],
   "source": [
    "driver.get(url)"
   ]
  },
  {
   "cell_type": "code",
   "execution_count": 8,
   "metadata": {},
   "outputs": [],
   "source": [
    "time.sleep(10)\n",
    "email_field = driver.find_element(By.ID,'user_email')\n",
    "password_field = driver.find_element(By.ID,'user_password')\n",
    "email_field.send_keys(email)\n",
    "password_field.send_keys(password)\n",
    "login_button = driver.find_elements(By.ID,\"ctl00_ctl00_cphFeatures_cphFeatures_ucLogin_btnLogin\")[0]\n",
    "login_button.click()\n",
    "time.sleep(20)"
   ]
  },
  {
   "cell_type": "code",
   "execution_count": 9,
   "metadata": {},
   "outputs": [],
   "source": [
    "time.sleep(20)\n",
    "search_xpath = \"/html/body/div[2]/div/div/section/main/div/div/header/div/header/div/div[1]/div/div/input\"\n",
    "search_bar = driver.find_element(By.XPATH,search_xpath)\n",
    "search_bar.send_keys('BNP Paribas Wealth Management')\n",
    "element_xpath = \"/html/body/div[2]/div/div/section/main/div/div/header/div/div/main/div[2]/div/div/div/ul/div/div[1]/div/div/div/li/div/div\"\n",
    "time.sleep(20)\n",
    "list_element = driver.find_element(By.XPATH,element_xpath)\n",
    "list_element.click()"
   ]
  },
  {
   "cell_type": "code",
   "execution_count": 10,
   "metadata": {},
   "outputs": [],
   "source": [
    "time.sleep(10)\n",
    "contact_xpath = \"/html/body/div[2]/div/div/section/main/div/div/div/div/main/div/div/div/div[1]/div/div[2]/a\"\n",
    "contact_button = driver.find_element(By.XPATH,contact_xpath)\n",
    "contact_button.click()\n",
    "time.sleep(10)"
   ]
  },
  {
   "cell_type": "code",
   "execution_count": 11,
   "metadata": {},
   "outputs": [],
   "source": [
    "html_code = driver.page_source"
   ]
  },
  {
   "cell_type": "code",
   "execution_count": 12,
   "metadata": {},
   "outputs": [],
   "source": [
    "from bs4 import BeautifulSoup"
   ]
  },
  {
   "cell_type": "code",
   "execution_count": 13,
   "metadata": {},
   "outputs": [],
   "source": [
    "soup = BeautifulSoup(html_code,'html.parser')\n",
    "table_code = soup.find(\"table\",attrs={\"class\":\"simpleTable contactsTable\"})\n",
    "all_rows = table_code.tbody.find_all(\"tr\")"
   ]
  },
  {
   "cell_type": "code",
   "execution_count": 20,
   "metadata": {},
   "outputs": [
    {
     "data": {
      "text/plain": [
       "'Rajni Agarwal'"
      ]
     },
     "execution_count": 20,
     "metadata": {},
     "output_type": "execute_result"
    }
   ],
   "source": [
    "rows = all_rows[0].find_all(\"td\")\n",
    "name = rows[0].text\n",
    "linkedIn_url = rows[1].a.attrs['href']\n",
    "vcard = rows[2].a.attrs['href']\n",
    "role = rows[3].text\n",
    "position = rows[4].text\n",
    "location = rows[5].text\n",
    "email = rows[6].text\n",
    "telephone = rows[7].text"
   ]
  },
  {
   "cell_type": "code",
   "execution_count": 50,
   "metadata": {},
   "outputs": [],
   "source": [
    "dict = {\n",
    "    'name' : rows[0].text,\n",
    "    'linkedIn_url' :  rows[1].a.attrs['href'],\n",
    "    'vcard': rows[2].a.attrs['href'],\n",
    "    'role': rows[3].text,\n",
    "    'position'  : rows[4].text,\n",
    "    'location': rows[5].text,\n",
    "    'email' : rows[6].text,\n",
    "    'telephone' : rows[7].text\n",
    "}"
   ]
  },
  {
   "cell_type": "code",
   "execution_count": 51,
   "metadata": {},
   "outputs": [
    {
     "data": {
      "text/plain": [
       "{'name': 'Rajni Agarwal',\n",
       " 'linkedIn_url': 'http://www.linkedin.com/in/rajni-agarwal-2a16a916/',\n",
       " 'vcard': 'data:text/x-vcard;charset=utf-8,BEGIN:VCARD%0AVERSION:4.0%0AORG;CHARSET=utf-8:BNP%20Paribas%20Wealth%20Management;%0AN;CHARSET=utf-8:Agarwal;Rajni;;Ms;%0AFN;CHARSET=utf-8:Ms%20Rajni%20Agarwal%20%0ATITLE:Vice%20President%20%20PE,RE,HF,INF,PD%0AEMAIL;PREF;INTERNET:rajni.agarwal@bnpparibas.com%0AADR;WORK;ENCODING=QUOTED-PRINTABLE;CHARSET=utf-8:;;10%20Collyer%20Quay%20Ocean%20Financial%20Centre,%20#35-01;Singapore;049315;;Singapore;%0ATEL;PREF=1;TYPE=work:+65%206210%203888%0AEND:VCARD',\n",
       " 'role': ' ',\n",
       " 'position': 'Vice President',\n",
       " 'location': 'Singapore, SGP',\n",
       " 'email': 'rajni.agarwal@bnpparibas.com',\n",
       " 'telephone': '+65 6210 3888'}"
      ]
     },
     "execution_count": 51,
     "metadata": {},
     "output_type": "execute_result"
    }
   ],
   "source": [
    "dict"
   ]
  },
  {
   "cell_type": "code",
   "execution_count": 35,
   "metadata": {},
   "outputs": [],
   "source": []
  },
  {
   "cell_type": "code",
   "execution_count": 38,
   "metadata": {},
   "outputs": [],
   "source": []
  },
  {
   "cell_type": "code",
   "execution_count": 40,
   "metadata": {},
   "outputs": [],
   "source": []
  },
  {
   "cell_type": "code",
   "execution_count": 43,
   "metadata": {},
   "outputs": [],
   "source": []
  },
  {
   "cell_type": "code",
   "execution_count": null,
   "metadata": {},
   "outputs": [],
   "source": []
  },
  {
   "cell_type": "code",
   "execution_count": null,
   "metadata": {},
   "outputs": [],
   "source": []
  },
  {
   "cell_type": "code",
   "execution_count": null,
   "metadata": {},
   "outputs": [],
   "source": []
  },
  {
   "cell_type": "code",
   "execution_count": null,
   "metadata": {},
   "outputs": [],
   "source": []
  },
  {
   "cell_type": "code",
   "execution_count": null,
   "metadata": {},
   "outputs": [],
   "source": [
    "time.sleep(20)\n",
    "driver.find_element_by_id('user_email').send_keys('sarthak@morphosisvc.in')\n",
    "driver.find_element_by_id('user_password').send_keys('Wox54759')\n",
    "driver.find_elements_by_id('ctl00_ctl00_cphFeatures_cphFeatures_ucLogin_btnLogin')[0].click()"
   ]
  },
  {
   "cell_type": "code",
   "execution_count": null,
   "metadata": {},
   "outputs": [],
   "source": [
    "time.sleep(10)\n",
    "driver.find_element_by_id('ctl00_ctl00_cphContent_cphPageBody_btnYes').click()\n",
    "time.sleep(30)\n",
    "driver.find_element_by_class_name('Input-Form-module_input_JsX7HW__v3-1-2').send_keys('Zeist')\n",
    "print(driver.find_elements_by_class_name('List-module_listGroupItemActive_7-2kEE__v3-1-2'))\n",
    "time.sleep(30)"
   ]
  }
 ],
 "metadata": {
  "kernelspec": {
   "display_name": "Python 3",
   "language": "python",
   "name": "python3"
  },
  "language_info": {
   "codemirror_mode": {
    "name": "ipython",
    "version": 3
   },
   "file_extension": ".py",
   "mimetype": "text/x-python",
   "name": "python",
   "nbconvert_exporter": "python",
   "pygments_lexer": "ipython3",
   "version": "3.11.1"
  },
  "orig_nbformat": 4,
  "vscode": {
   "interpreter": {
    "hash": "66daecbd770a1b5ab245d0d1e236260d5192b2c726bd9e6ef2e84767d2f3a8f9"
   }
  }
 },
 "nbformat": 4,
 "nbformat_minor": 2
}
